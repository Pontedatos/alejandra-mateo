{
 "cells": [
  {
   "cell_type": "markdown",
   "metadata": {},
   "source": [
    "**Escribimos un primer mensaje para mostrar en pantalla**"
   ]
  },
  {
   "cell_type": "code",
   "execution_count": 33,
   "metadata": {},
   "outputs": [
    {
     "name": "stdout",
     "output_type": "stream",
     "text": [
      " ¡Hola,mundo!\n"
     ]
    }
   ],
   "source": [
    "print(\" ¡Hola,mundo!\")"
   ]
  },
  {
   "cell_type": "markdown",
   "metadata": {},
   "source": [
    "**Importamos la librería que vamos a usar, pandas, y utilizamos la asignación 'as'para llamarlo simplemente pd a lo largo de todo el proceso y no tener que escribir 'pandas' cada vez**"
   ]
  },
  {
   "cell_type": "code",
   "execution_count": 1,
   "metadata": {},
   "outputs": [],
   "source": [
    "import pandas as pd"
   ]
  },
  {
   "cell_type": "markdown",
   "metadata": {},
   "source": [
    "**Primer hemos descargado la base de datos y la hemos subido a Github para tener siempre acceso a ella (para ello hemos añadido ?raw=true al final del link para poder leerlo con pandas). No obstante, podríamos haber llamado directamente al link**"
   ]
  },
  {
   "cell_type": "code",
   "execution_count": 36,
   "metadata": {},
   "outputs": [],
   "source": [
    "url='https://github.com/Alejandraa98/practicas-periodismo-de-datos/blob/main/practica-4.csv?raw=true'"
   ]
  },
  {
   "cell_type": "markdown",
   "metadata": {},
   "source": [
    "**Leemos la base de datos a partir del URL especificando los delimitadores y la asignamos a la variable df**"
   ]
  },
  {
   "cell_type": "code",
   "execution_count": 37,
   "metadata": {},
   "outputs": [],
   "source": [
    "df = pd.read_csv(url,delimiter= ';')"
   ]
  },
  {
   "cell_type": "markdown",
   "metadata": {},
   "source": [
    "**Escribiendo df podemos acceder al contenido de esa base de datos, en este caso expresada a través de la tabla**"
   ]
  },
  {
   "cell_type": "code",
   "execution_count": 38,
   "metadata": {},
   "outputs": [
    {
     "data": {
      "text/html": [
       "<div>\n",
       "<style scoped>\n",
       "    .dataframe tbody tr th:only-of-type {\n",
       "        vertical-align: middle;\n",
       "    }\n",
       "\n",
       "    .dataframe tbody tr th {\n",
       "        vertical-align: top;\n",
       "    }\n",
       "\n",
       "    .dataframe thead th {\n",
       "        text-align: right;\n",
       "    }\n",
       "</style>\n",
       "<table border=\"1\" class=\"dataframe\">\n",
       "  <thead>\n",
       "    <tr style=\"text-align: right;\">\n",
       "      <th></th>\n",
       "      <th>Sexo</th>\n",
       "      <th>Ciclo</th>\n",
       "      <th>Nivel de formación más apropiado para realizar su trabajo</th>\n",
       "      <th>Total</th>\n",
       "    </tr>\n",
       "  </thead>\n",
       "  <tbody>\n",
       "    <tr>\n",
       "      <th>0</th>\n",
       "      <td>Ambos sexos</td>\n",
       "      <td>Total</td>\n",
       "      <td>Total trabajando</td>\n",
       "      <td>90.506</td>\n",
       "    </tr>\n",
       "    <tr>\n",
       "      <th>1</th>\n",
       "      <td>Ambos sexos</td>\n",
       "      <td>Total</td>\n",
       "      <td>Título universitario</td>\n",
       "      <td>17.969</td>\n",
       "    </tr>\n",
       "    <tr>\n",
       "      <th>2</th>\n",
       "      <td>Ambos sexos</td>\n",
       "      <td>Total</td>\n",
       "      <td>Formación profesional de grado superior</td>\n",
       "      <td>46.756</td>\n",
       "    </tr>\n",
       "    <tr>\n",
       "      <th>3</th>\n",
       "      <td>Ambos sexos</td>\n",
       "      <td>Total</td>\n",
       "      <td>Formación profesional de grado medio / bachill...</td>\n",
       "      <td>11.386</td>\n",
       "    </tr>\n",
       "    <tr>\n",
       "      <th>4</th>\n",
       "      <td>Ambos sexos</td>\n",
       "      <td>Total</td>\n",
       "      <td>Formación profesional básica</td>\n",
       "      <td>3.760</td>\n",
       "    </tr>\n",
       "    <tr>\n",
       "      <th>...</th>\n",
       "      <td>...</td>\n",
       "      <td>...</td>\n",
       "      <td>...</td>\n",
       "      <td>...</td>\n",
       "    </tr>\n",
       "    <tr>\n",
       "      <th>1318</th>\n",
       "      <td>Mujeres</td>\n",
       "      <td>15 - VIDRIO Y CERÁMICA 16 - MADERA, MUEBLE Y C...</td>\n",
       "      <td>Formación profesional de grado superior</td>\n",
       "      <td>100.000</td>\n",
       "    </tr>\n",
       "    <tr>\n",
       "      <th>1319</th>\n",
       "      <td>Mujeres</td>\n",
       "      <td>15 - VIDRIO Y CERÁMICA 16 - MADERA, MUEBLE Y C...</td>\n",
       "      <td>Formación profesional de grado medio / bachill...</td>\n",
       "      <td>25.000</td>\n",
       "    </tr>\n",
       "    <tr>\n",
       "      <th>1320</th>\n",
       "      <td>Mujeres</td>\n",
       "      <td>15 - VIDRIO Y CERÁMICA 16 - MADERA, MUEBLE Y C...</td>\n",
       "      <td>Formación profesional básica</td>\n",
       "      <td>13.000</td>\n",
       "    </tr>\n",
       "    <tr>\n",
       "      <th>1321</th>\n",
       "      <td>Mujeres</td>\n",
       "      <td>15 - VIDRIO Y CERÁMICA 16 - MADERA, MUEBLE Y C...</td>\n",
       "      <td>ESO, EGB, etc ...</td>\n",
       "      <td>47.000</td>\n",
       "    </tr>\n",
       "    <tr>\n",
       "      <th>1322</th>\n",
       "      <td>Mujeres</td>\n",
       "      <td>15 - VIDRIO Y CERÁMICA 16 - MADERA, MUEBLE Y C...</td>\n",
       "      <td>No consta</td>\n",
       "      <td>5.000</td>\n",
       "    </tr>\n",
       "  </tbody>\n",
       "</table>\n",
       "<p>1323 rows × 4 columns</p>\n",
       "</div>"
      ],
      "text/plain": [
       "             Sexo                                              Ciclo  \\\n",
       "0     Ambos sexos                                              Total   \n",
       "1     Ambos sexos                                              Total   \n",
       "2     Ambos sexos                                              Total   \n",
       "3     Ambos sexos                                              Total   \n",
       "4     Ambos sexos                                              Total   \n",
       "...           ...                                                ...   \n",
       "1318      Mujeres  15 - VIDRIO Y CERÁMICA 16 - MADERA, MUEBLE Y C...   \n",
       "1319      Mujeres  15 - VIDRIO Y CERÁMICA 16 - MADERA, MUEBLE Y C...   \n",
       "1320      Mujeres  15 - VIDRIO Y CERÁMICA 16 - MADERA, MUEBLE Y C...   \n",
       "1321      Mujeres  15 - VIDRIO Y CERÁMICA 16 - MADERA, MUEBLE Y C...   \n",
       "1322      Mujeres  15 - VIDRIO Y CERÁMICA 16 - MADERA, MUEBLE Y C...   \n",
       "\n",
       "     Nivel de formación más apropiado para realizar su trabajo    Total  \n",
       "0                                      Total trabajando          90.506  \n",
       "1                                  Título universitario          17.969  \n",
       "2               Formación profesional de grado superior          46.756  \n",
       "3     Formación profesional de grado medio / bachill...          11.386  \n",
       "4                          Formación profesional básica           3.760  \n",
       "...                                                 ...             ...  \n",
       "1318            Formación profesional de grado superior         100.000  \n",
       "1319  Formación profesional de grado medio / bachill...          25.000  \n",
       "1320                       Formación profesional básica          13.000  \n",
       "1321                                  ESO, EGB, etc ...          47.000  \n",
       "1322                                          No consta           5.000  \n",
       "\n",
       "[1323 rows x 4 columns]"
      ]
     },
     "execution_count": 38,
     "metadata": {},
     "output_type": "execute_result"
    }
   ],
   "source": [
    "df"
   ]
  },
  {
   "cell_type": "markdown",
   "metadata": {},
   "source": [
    "**Mediante las funciones head y tail podemos visualizar la parte superior e inferior de los datos respectivamente**"
   ]
  },
  {
   "cell_type": "code",
   "execution_count": 8,
   "metadata": {},
   "outputs": [
    {
     "data": {
      "text/html": [
       "<div>\n",
       "<style scoped>\n",
       "    .dataframe tbody tr th:only-of-type {\n",
       "        vertical-align: middle;\n",
       "    }\n",
       "\n",
       "    .dataframe tbody tr th {\n",
       "        vertical-align: top;\n",
       "    }\n",
       "\n",
       "    .dataframe thead th {\n",
       "        text-align: right;\n",
       "    }\n",
       "</style>\n",
       "<table border=\"1\" class=\"dataframe\">\n",
       "  <thead>\n",
       "    <tr style=\"text-align: right;\">\n",
       "      <th></th>\n",
       "      <th>Sexo</th>\n",
       "      <th>Ciclo</th>\n",
       "      <th>Nivel de formación más apropiado para realizar su trabajo</th>\n",
       "      <th>Total</th>\n",
       "    </tr>\n",
       "  </thead>\n",
       "  <tbody>\n",
       "    <tr>\n",
       "      <th>0</th>\n",
       "      <td>Ambos sexos</td>\n",
       "      <td>Total</td>\n",
       "      <td>Total trabajando</td>\n",
       "      <td>90.506</td>\n",
       "    </tr>\n",
       "    <tr>\n",
       "      <th>1</th>\n",
       "      <td>Ambos sexos</td>\n",
       "      <td>Total</td>\n",
       "      <td>Título universitario</td>\n",
       "      <td>17.969</td>\n",
       "    </tr>\n",
       "    <tr>\n",
       "      <th>2</th>\n",
       "      <td>Ambos sexos</td>\n",
       "      <td>Total</td>\n",
       "      <td>Formación profesional de grado superior</td>\n",
       "      <td>46.756</td>\n",
       "    </tr>\n",
       "    <tr>\n",
       "      <th>3</th>\n",
       "      <td>Ambos sexos</td>\n",
       "      <td>Total</td>\n",
       "      <td>Formación profesional de grado medio / bachill...</td>\n",
       "      <td>11.386</td>\n",
       "    </tr>\n",
       "    <tr>\n",
       "      <th>4</th>\n",
       "      <td>Ambos sexos</td>\n",
       "      <td>Total</td>\n",
       "      <td>Formación profesional básica</td>\n",
       "      <td>3.760</td>\n",
       "    </tr>\n",
       "  </tbody>\n",
       "</table>\n",
       "</div>"
      ],
      "text/plain": [
       "          Sexo  Ciclo  \\\n",
       "0  Ambos sexos  Total   \n",
       "1  Ambos sexos  Total   \n",
       "2  Ambos sexos  Total   \n",
       "3  Ambos sexos  Total   \n",
       "4  Ambos sexos  Total   \n",
       "\n",
       "  Nivel de formación más apropiado para realizar su trabajo   Total  \n",
       "0                                   Total trabajando         90.506  \n",
       "1                               Título universitario         17.969  \n",
       "2            Formación profesional de grado superior         46.756  \n",
       "3  Formación profesional de grado medio / bachill...         11.386  \n",
       "4                       Formación profesional básica          3.760  "
      ]
     },
     "execution_count": 8,
     "metadata": {},
     "output_type": "execute_result"
    }
   ],
   "source": [
    "df.head()"
   ]
  },
  {
   "cell_type": "code",
   "execution_count": 9,
   "metadata": {},
   "outputs": [
    {
     "data": {
      "text/html": [
       "<div>\n",
       "<style scoped>\n",
       "    .dataframe tbody tr th:only-of-type {\n",
       "        vertical-align: middle;\n",
       "    }\n",
       "\n",
       "    .dataframe tbody tr th {\n",
       "        vertical-align: top;\n",
       "    }\n",
       "\n",
       "    .dataframe thead th {\n",
       "        text-align: right;\n",
       "    }\n",
       "</style>\n",
       "<table border=\"1\" class=\"dataframe\">\n",
       "  <thead>\n",
       "    <tr style=\"text-align: right;\">\n",
       "      <th></th>\n",
       "      <th>Sexo</th>\n",
       "      <th>Ciclo</th>\n",
       "      <th>Nivel de formación más apropiado para realizar su trabajo</th>\n",
       "      <th>Total</th>\n",
       "    </tr>\n",
       "  </thead>\n",
       "  <tbody>\n",
       "    <tr>\n",
       "      <th>1318</th>\n",
       "      <td>Mujeres</td>\n",
       "      <td>15 - VIDRIO Y CERÁMICA 16 - MADERA, MUEBLE Y C...</td>\n",
       "      <td>Formación profesional de grado superior</td>\n",
       "      <td>100.0</td>\n",
       "    </tr>\n",
       "    <tr>\n",
       "      <th>1319</th>\n",
       "      <td>Mujeres</td>\n",
       "      <td>15 - VIDRIO Y CERÁMICA 16 - MADERA, MUEBLE Y C...</td>\n",
       "      <td>Formación profesional de grado medio / bachill...</td>\n",
       "      <td>25.0</td>\n",
       "    </tr>\n",
       "    <tr>\n",
       "      <th>1320</th>\n",
       "      <td>Mujeres</td>\n",
       "      <td>15 - VIDRIO Y CERÁMICA 16 - MADERA, MUEBLE Y C...</td>\n",
       "      <td>Formación profesional básica</td>\n",
       "      <td>13.0</td>\n",
       "    </tr>\n",
       "    <tr>\n",
       "      <th>1321</th>\n",
       "      <td>Mujeres</td>\n",
       "      <td>15 - VIDRIO Y CERÁMICA 16 - MADERA, MUEBLE Y C...</td>\n",
       "      <td>ESO, EGB, etc ...</td>\n",
       "      <td>47.0</td>\n",
       "    </tr>\n",
       "    <tr>\n",
       "      <th>1322</th>\n",
       "      <td>Mujeres</td>\n",
       "      <td>15 - VIDRIO Y CERÁMICA 16 - MADERA, MUEBLE Y C...</td>\n",
       "      <td>No consta</td>\n",
       "      <td>5.0</td>\n",
       "    </tr>\n",
       "  </tbody>\n",
       "</table>\n",
       "</div>"
      ],
      "text/plain": [
       "         Sexo                                              Ciclo  \\\n",
       "1318  Mujeres  15 - VIDRIO Y CERÁMICA 16 - MADERA, MUEBLE Y C...   \n",
       "1319  Mujeres  15 - VIDRIO Y CERÁMICA 16 - MADERA, MUEBLE Y C...   \n",
       "1320  Mujeres  15 - VIDRIO Y CERÁMICA 16 - MADERA, MUEBLE Y C...   \n",
       "1321  Mujeres  15 - VIDRIO Y CERÁMICA 16 - MADERA, MUEBLE Y C...   \n",
       "1322  Mujeres  15 - VIDRIO Y CERÁMICA 16 - MADERA, MUEBLE Y C...   \n",
       "\n",
       "     Nivel de formación más apropiado para realizar su trabajo  Total  \n",
       "1318            Formación profesional de grado superior         100.0  \n",
       "1319  Formación profesional de grado medio / bachill...          25.0  \n",
       "1320                       Formación profesional básica          13.0  \n",
       "1321                                  ESO, EGB, etc ...          47.0  \n",
       "1322                                          No consta           5.0  "
      ]
     },
     "execution_count": 9,
     "metadata": {},
     "output_type": "execute_result"
    }
   ],
   "source": [
    "df.tail()"
   ]
  },
  {
   "cell_type": "markdown",
   "metadata": {},
   "source": [
    "**Con la función columns podemos visualizar el nombre de cada columna**"
   ]
  },
  {
   "cell_type": "code",
   "execution_count": 12,
   "metadata": {},
   "outputs": [
    {
     "data": {
      "text/plain": [
       "Index(['Sexo', 'Ciclo',\n",
       "       'Nivel de formación más apropiado para realizar su trabajo', 'Total'],\n",
       "      dtype='object')"
      ]
     },
     "execution_count": 12,
     "metadata": {},
     "output_type": "execute_result"
    }
   ],
   "source": [
    "df.columns"
   ]
  },
  {
   "cell_type": "markdown",
   "metadata": {},
   "source": [
    "**Escribiendo los nombres de las columnas Ciclo y Nivel de formación más apropiado para realizar su trabajo accedemos a la información que estas columnas contienen**"
   ]
  },
  {
   "cell_type": "code",
   "execution_count": 13,
   "metadata": {},
   "outputs": [
    {
     "data": {
      "text/plain": [
       "0                                                   Total\n",
       "1                                                   Total\n",
       "2                                                   Total\n",
       "3                                                   Total\n",
       "4                                                   Total\n",
       "                              ...                        \n",
       "1318    15 - VIDRIO Y CERÁMICA 16 - MADERA, MUEBLE Y C...\n",
       "1319    15 - VIDRIO Y CERÁMICA 16 - MADERA, MUEBLE Y C...\n",
       "1320    15 - VIDRIO Y CERÁMICA 16 - MADERA, MUEBLE Y C...\n",
       "1321    15 - VIDRIO Y CERÁMICA 16 - MADERA, MUEBLE Y C...\n",
       "1322    15 - VIDRIO Y CERÁMICA 16 - MADERA, MUEBLE Y C...\n",
       "Name: Ciclo, Length: 1323, dtype: object"
      ]
     },
     "execution_count": 13,
     "metadata": {},
     "output_type": "execute_result"
    }
   ],
   "source": [
    "df['Ciclo']"
   ]
  },
  {
   "cell_type": "code",
   "execution_count": 14,
   "metadata": {},
   "outputs": [
    {
     "data": {
      "text/plain": [
       "0                                        Total trabajando\n",
       "1                                    Título universitario\n",
       "2                 Formación profesional de grado superior\n",
       "3       Formación profesional de grado medio / bachill...\n",
       "4                            Formación profesional básica\n",
       "                              ...                        \n",
       "1318              Formación profesional de grado superior\n",
       "1319    Formación profesional de grado medio / bachill...\n",
       "1320                         Formación profesional básica\n",
       "1321                                    ESO, EGB, etc ...\n",
       "1322                                            No consta\n",
       "Name: Nivel de formación más apropiado para realizar su trabajo, Length: 1323, dtype: object"
      ]
     },
     "execution_count": 14,
     "metadata": {},
     "output_type": "execute_result"
    }
   ],
   "source": [
    "df['Nivel de formación más apropiado para realizar su trabajo']"
   ]
  },
  {
   "cell_type": "markdown",
   "metadata": {},
   "source": [
    "**Si queremos acceder directamente al valor de la fila 4, primero concretamos la columna y luego escribimos en corchetes el número de la fila a la que queremos acceder. En el segundo caso, en el que se hace la prueba con el número de fila 1324 hay un error ya que la última fila es la 1322 y por tanto no existe**"
   ]
  },
  {
   "cell_type": "code",
   "execution_count": 15,
   "metadata": {},
   "outputs": [
    {
     "data": {
      "text/plain": [
       "'Ambos sexos'"
      ]
     },
     "execution_count": 15,
     "metadata": {},
     "output_type": "execute_result"
    }
   ],
   "source": [
    "df['Sexo'][4]"
   ]
  },
  {
   "cell_type": "code",
   "execution_count": 16,
   "metadata": {},
   "outputs": [
    {
     "ename": "KeyError",
     "evalue": "1324",
     "output_type": "error",
     "traceback": [
      "\u001b[0;31m---------------------------------------------------------------------------\u001b[0m",
      "\u001b[0;31mValueError\u001b[0m                                Traceback (most recent call last)",
      "\u001b[0;32m/usr/local/lib/python3.8/dist-packages/pandas/core/indexes/range.py\u001b[0m in \u001b[0;36mget_loc\u001b[0;34m(self, key, method, tolerance)\u001b[0m\n\u001b[1;32m    384\u001b[0m                 \u001b[0;32mtry\u001b[0m\u001b[0;34m:\u001b[0m\u001b[0;34m\u001b[0m\u001b[0;34m\u001b[0m\u001b[0m\n\u001b[0;32m--> 385\u001b[0;31m                     \u001b[0;32mreturn\u001b[0m \u001b[0mself\u001b[0m\u001b[0;34m.\u001b[0m\u001b[0m_range\u001b[0m\u001b[0;34m.\u001b[0m\u001b[0mindex\u001b[0m\u001b[0;34m(\u001b[0m\u001b[0mnew_key\u001b[0m\u001b[0;34m)\u001b[0m\u001b[0;34m\u001b[0m\u001b[0;34m\u001b[0m\u001b[0m\n\u001b[0m\u001b[1;32m    386\u001b[0m                 \u001b[0;32mexcept\u001b[0m \u001b[0mValueError\u001b[0m \u001b[0;32mas\u001b[0m \u001b[0merr\u001b[0m\u001b[0;34m:\u001b[0m\u001b[0;34m\u001b[0m\u001b[0;34m\u001b[0m\u001b[0m\n",
      "\u001b[0;31mValueError\u001b[0m: 1324 is not in range",
      "\nThe above exception was the direct cause of the following exception:\n",
      "\u001b[0;31mKeyError\u001b[0m                                  Traceback (most recent call last)",
      "\u001b[0;32m<ipython-input-16-f9fa2de4cbed>\u001b[0m in \u001b[0;36m<module>\u001b[0;34m\u001b[0m\n\u001b[0;32m----> 1\u001b[0;31m \u001b[0mdf\u001b[0m\u001b[0;34m[\u001b[0m\u001b[0;34m'Sexo'\u001b[0m\u001b[0;34m]\u001b[0m\u001b[0;34m[\u001b[0m\u001b[0;36m1324\u001b[0m\u001b[0;34m]\u001b[0m\u001b[0;34m\u001b[0m\u001b[0;34m\u001b[0m\u001b[0m\n\u001b[0m",
      "\u001b[0;32m/usr/local/lib/python3.8/dist-packages/pandas/core/series.py\u001b[0m in \u001b[0;36m__getitem__\u001b[0;34m(self, key)\u001b[0m\n\u001b[1;32m    940\u001b[0m \u001b[0;34m\u001b[0m\u001b[0m\n\u001b[1;32m    941\u001b[0m         \u001b[0;32melif\u001b[0m \u001b[0mkey_is_scalar\u001b[0m\u001b[0;34m:\u001b[0m\u001b[0;34m\u001b[0m\u001b[0;34m\u001b[0m\u001b[0m\n\u001b[0;32m--> 942\u001b[0;31m             \u001b[0;32mreturn\u001b[0m \u001b[0mself\u001b[0m\u001b[0;34m.\u001b[0m\u001b[0m_get_value\u001b[0m\u001b[0;34m(\u001b[0m\u001b[0mkey\u001b[0m\u001b[0;34m)\u001b[0m\u001b[0;34m\u001b[0m\u001b[0;34m\u001b[0m\u001b[0m\n\u001b[0m\u001b[1;32m    943\u001b[0m \u001b[0;34m\u001b[0m\u001b[0m\n\u001b[1;32m    944\u001b[0m         \u001b[0;32mif\u001b[0m \u001b[0mis_hashable\u001b[0m\u001b[0;34m(\u001b[0m\u001b[0mkey\u001b[0m\u001b[0;34m)\u001b[0m\u001b[0;34m:\u001b[0m\u001b[0;34m\u001b[0m\u001b[0;34m\u001b[0m\u001b[0m\n",
      "\u001b[0;32m/usr/local/lib/python3.8/dist-packages/pandas/core/series.py\u001b[0m in \u001b[0;36m_get_value\u001b[0;34m(self, label, takeable)\u001b[0m\n\u001b[1;32m   1049\u001b[0m \u001b[0;34m\u001b[0m\u001b[0m\n\u001b[1;32m   1050\u001b[0m         \u001b[0;31m# Similar to Index.get_value, but we do not fall back to positional\u001b[0m\u001b[0;34m\u001b[0m\u001b[0;34m\u001b[0m\u001b[0;34m\u001b[0m\u001b[0m\n\u001b[0;32m-> 1051\u001b[0;31m         \u001b[0mloc\u001b[0m \u001b[0;34m=\u001b[0m \u001b[0mself\u001b[0m\u001b[0;34m.\u001b[0m\u001b[0mindex\u001b[0m\u001b[0;34m.\u001b[0m\u001b[0mget_loc\u001b[0m\u001b[0;34m(\u001b[0m\u001b[0mlabel\u001b[0m\u001b[0;34m)\u001b[0m\u001b[0;34m\u001b[0m\u001b[0;34m\u001b[0m\u001b[0m\n\u001b[0m\u001b[1;32m   1052\u001b[0m         \u001b[0;32mreturn\u001b[0m \u001b[0mself\u001b[0m\u001b[0;34m.\u001b[0m\u001b[0mindex\u001b[0m\u001b[0;34m.\u001b[0m\u001b[0m_get_values_for_loc\u001b[0m\u001b[0;34m(\u001b[0m\u001b[0mself\u001b[0m\u001b[0;34m,\u001b[0m \u001b[0mloc\u001b[0m\u001b[0;34m,\u001b[0m \u001b[0mlabel\u001b[0m\u001b[0;34m)\u001b[0m\u001b[0;34m\u001b[0m\u001b[0;34m\u001b[0m\u001b[0m\n\u001b[1;32m   1053\u001b[0m \u001b[0;34m\u001b[0m\u001b[0m\n",
      "\u001b[0;32m/usr/local/lib/python3.8/dist-packages/pandas/core/indexes/range.py\u001b[0m in \u001b[0;36mget_loc\u001b[0;34m(self, key, method, tolerance)\u001b[0m\n\u001b[1;32m    385\u001b[0m                     \u001b[0;32mreturn\u001b[0m \u001b[0mself\u001b[0m\u001b[0;34m.\u001b[0m\u001b[0m_range\u001b[0m\u001b[0;34m.\u001b[0m\u001b[0mindex\u001b[0m\u001b[0;34m(\u001b[0m\u001b[0mnew_key\u001b[0m\u001b[0;34m)\u001b[0m\u001b[0;34m\u001b[0m\u001b[0;34m\u001b[0m\u001b[0m\n\u001b[1;32m    386\u001b[0m                 \u001b[0;32mexcept\u001b[0m \u001b[0mValueError\u001b[0m \u001b[0;32mas\u001b[0m \u001b[0merr\u001b[0m\u001b[0;34m:\u001b[0m\u001b[0;34m\u001b[0m\u001b[0;34m\u001b[0m\u001b[0m\n\u001b[0;32m--> 387\u001b[0;31m                     \u001b[0;32mraise\u001b[0m \u001b[0mKeyError\u001b[0m\u001b[0;34m(\u001b[0m\u001b[0mkey\u001b[0m\u001b[0;34m)\u001b[0m \u001b[0;32mfrom\u001b[0m \u001b[0merr\u001b[0m\u001b[0;34m\u001b[0m\u001b[0;34m\u001b[0m\u001b[0m\n\u001b[0m\u001b[1;32m    388\u001b[0m             \u001b[0;32mraise\u001b[0m \u001b[0mKeyError\u001b[0m\u001b[0;34m(\u001b[0m\u001b[0mkey\u001b[0m\u001b[0;34m)\u001b[0m\u001b[0;34m\u001b[0m\u001b[0;34m\u001b[0m\u001b[0m\n\u001b[1;32m    389\u001b[0m         \u001b[0;32mreturn\u001b[0m \u001b[0msuper\u001b[0m\u001b[0;34m(\u001b[0m\u001b[0;34m)\u001b[0m\u001b[0;34m.\u001b[0m\u001b[0mget_loc\u001b[0m\u001b[0;34m(\u001b[0m\u001b[0mkey\u001b[0m\u001b[0;34m,\u001b[0m \u001b[0mmethod\u001b[0m\u001b[0;34m=\u001b[0m\u001b[0mmethod\u001b[0m\u001b[0;34m,\u001b[0m \u001b[0mtolerance\u001b[0m\u001b[0;34m=\u001b[0m\u001b[0mtolerance\u001b[0m\u001b[0;34m)\u001b[0m\u001b[0;34m\u001b[0m\u001b[0;34m\u001b[0m\u001b[0m\n",
      "\u001b[0;31mKeyError\u001b[0m: 1324"
     ]
    }
   ],
   "source": [
    "df['Sexo'][1324]"
   ]
  },
  {
   "cell_type": "markdown",
   "metadata": {},
   "source": [
    "**Para obtener información sobre valores numéricos de una columna utilizamos la función describe**"
   ]
  },
  {
   "cell_type": "code",
   "execution_count": 20,
   "metadata": {},
   "outputs": [
    {
     "data": {
      "text/plain": [
       "count    1323.000000\n",
       "mean      143.394738\n",
       "std       206.208199\n",
       "min         0.000000\n",
       "25%         8.000000\n",
       "50%        50.000000\n",
       "75%       183.500000\n",
       "max       970.000000\n",
       "Name: Total, dtype: float64"
      ]
     },
     "execution_count": 20,
     "metadata": {},
     "output_type": "execute_result"
    }
   ],
   "source": [
    "df['Total'].describe()"
   ]
  },
  {
   "cell_type": "markdown",
   "metadata": {},
   "source": [
    "**Con la función unique obtenemos valores únicos de cada columna, en este caso de la columna que se indica anteriormente entre corchetes**"
   ]
  },
  {
   "cell_type": "code",
   "execution_count": 23,
   "metadata": {},
   "outputs": [
    {
     "data": {
      "text/plain": [
       "array(['Total trabajando', 'Título universitario',\n",
       "       'Formación profesional de grado superior',\n",
       "       'Formación profesional de grado medio / bachillerato',\n",
       "       'Formación profesional básica', 'ESO, EGB, etc ...', 'No consta'],\n",
       "      dtype=object)"
      ]
     },
     "execution_count": 23,
     "metadata": {},
     "output_type": "execute_result"
    }
   ],
   "source": [
    "df['Nivel de formación más apropiado para realizar su trabajo'].unique()"
   ]
  },
  {
   "cell_type": "markdown",
   "metadata": {},
   "source": [
    "**Importamos la librería de matplotlib, la renombramos como plt para facilitar su escritura. De esta manera, podremos visualizar mediante un gráfico de barras la información de la base de datos que antes hemos analizado**"
   ]
  },
  {
   "cell_type": "code",
   "execution_count": 26,
   "metadata": {},
   "outputs": [],
   "source": [
    "import matplotlib.pyplot as plt"
   ]
  },
  {
   "cell_type": "code",
   "execution_count": 35,
   "metadata": {},
   "outputs": [
    {
     "data": {
      "image/png": "[encoded data removed]",
      "text/plain": [
       "<Figure size 432x288 with 1 Axes>"
      ]
     },
     "metadata": {
      "needs_background": "light"
     },
     "output_type": "display_data"
    }
   ],
   "source": [
    "plt.bar(df['Sexo'],df['Total']) \n",
    "plt.show()"
   ]
  }
 ],
 "metadata": {
  "kernelspec": {
   "display_name": "Python 3",
   "language": "python",
   "name": "python3"
  },
  "language_info": {
   "codemirror_mode": {
    "name": "ipython",
    "version": 3
   },
   "file_extension": ".py",
   "mimetype": "text/x-python",
   "name": "python",
   "nbconvert_exporter": "python",
   "pygments_lexer": "ipython3",
   "version": "3.8.10"
  }
 },
 "nbformat": 4,
 "nbformat_minor": 4
}
