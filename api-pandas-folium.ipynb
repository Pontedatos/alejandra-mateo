{
 "cells": [
  {
   "cell_type": "markdown",
   "metadata": {},
   "source": [
    "# Análisis de datos con las librerías 'pandas' y 'folium'"
   ]
  },
  {
   "cell_type": "markdown",
   "metadata": {},
   "source": [
    "### Antes de empezar, creamos variables para la localización de Zaragoza y usarla al ejecutar las funciones de folium"
   ]
  },
  {
   "cell_type": "code",
   "execution_count": 3,
   "metadata": {},
   "outputs": [],
   "source": [
    "url_zgz='https://www.zaragoza.es/sede/servicio/transporte/accidentalidad-trafico/accidente.csv'\n",
    "geo_zgz=[41.649693,-0.887712]\n"
   ]
  },
  {
   "cell_type": "markdown",
   "metadata": {},
   "source": [
    "### En primer lugar, instalamos la librería porque el paquete (folium) no se encuentra dentro de las librerías de las que dispone Jupyterhub"
   ]
  },
  {
   "cell_type": "code",
   "execution_count": 7,
   "metadata": {},
   "outputs": [
    {
     "name": "stdout",
     "output_type": "stream",
     "text": [
      "Requirement already satisfied: folium in ./.local/lib/python3.8/site-packages (0.12.1.post1)\n",
      "Requirement already satisfied: numpy in /usr/local/lib/python3.8/dist-packages (from folium) (1.21.1)\n",
      "Requirement already satisfied: jinja2>=2.9 in /usr/lib/python3/dist-packages (from folium) (2.10.1)\n",
      "Requirement already satisfied: requests in /usr/local/lib/python3.8/dist-packages (from folium) (2.25.0)\n",
      "Requirement already satisfied: branca>=0.3.0 in ./.local/lib/python3.8/site-packages (from folium) (0.4.2)\n",
      "Requirement already satisfied: certifi>=2017.4.17 in /usr/local/lib/python3.8/dist-packages (from requests->folium) (2020.6.20)\n",
      "Requirement already satisfied: urllib3<1.27,>=1.21.1 in /usr/lib/python3/dist-packages (from requests->folium) (1.25.8)\n",
      "Requirement already satisfied: idna<3,>=2.5 in /usr/lib/python3/dist-packages (from requests->folium) (2.8)\n",
      "Requirement already satisfied: chardet<4,>=3.0.2 in /usr/lib/python3/dist-packages (from requests->folium) (3.0.4)\n"
     ]
    }
   ],
   "source": [
    "!pip install folium"
   ]
  },
  {
   "cell_type": "markdown",
   "metadata": {},
   "source": [
    "### Importamos las dos librerías. A pandas en concreto la llamamos pd para referenciarla así y no tener que escribir el nombre completo cada vez"
   ]
  },
  {
   "cell_type": "code",
   "execution_count": 9,
   "metadata": {},
   "outputs": [],
   "source": [
    "import pandas as pd\n",
    "import folium\n"
   ]
  },
  {
   "cell_type": "markdown",
   "metadata": {},
   "source": [
    "### Generamos una variable que guarda los datos de la función de folium (el mapa con las coordinadas asignadas a la variable geo_zgz)"
   ]
  },
  {
   "cell_type": "code",
   "execution_count": 13,
   "metadata": {},
   "outputs": [],
   "source": [
    "mapa_zgz = folium.Map(location=geo_zgz)"
   ]
  },
  {
   "cell_type": "markdown",
   "metadata": {},
   "source": [
    "### Llamamos a la variable que contenía los datos de la función de folium. Esto nos mostrará un mapa con la información de nuestra localización"
   ]
  },
  {
   "cell_type": "code",
   "execution_count": 14,
   "metadata": {},
   "outputs": [
    {
     "data": {
      "text/html": [
       "<div style=\"width:100%;\"><div style=\"position:relative;width:100%;height:0;padding-bottom:60%;\"><span style=\"color:#565656\">Make this Notebook Trusted to load map: File -> Trust Notebook</span><iframe src=\"about:blank\" style=\"position:absolute;width:100%;height:100%;left:0;top:0;border:none !important;\" data-html=%3C%21DOCTYPE%20html%3E%0A%3Chead%3E%20%20%20%20%0A%20%20%20%20%3Cmeta%20http-equiv%3D%22content-type%22%20content%3D%22text/html%3B%20charset%3DUTF-8%22%20/%3E%0A%20%20%20%20%0A%20%20%20%20%20%20%20%20%3Cscript%3E%0A%20%20%20%20%20%20%20%20%20%20%20%20L_NO_TOUCH%20%3D%20false%3B%0A%20%20%20%20%20%20%20%20%20%20%20%20L_DISABLE_3D%20%3D%20false%3B%0A%20%20%20%20%20%20%20%20%3C/script%3E%0A%20%20%20%20%0A%20%20%20%20%3Cstyle%3Ehtml%2C%20body%20%7Bwidth%3A%20100%25%3Bheight%3A%20100%25%3Bmargin%3A%200%3Bpadding%3A%200%3B%7D%3C/style%3E%0A%20%20%20%20%3Cstyle%3E%23map%20%7Bposition%3Aabsolute%3Btop%3A0%3Bbottom%3A0%3Bright%3A0%3Bleft%3A0%3B%7D%3C/style%3E%0A%20%20%20%20%3Cscript%20src%3D%22https%3A//cdn.jsdelivr.net/npm/leaflet%401.6.0/dist/leaflet.js%22%3E%3C/script%3E%0A%20%20%20%20%3Cscript%20src%3D%22https%3A//code.jquery.com/jquery-1.12.4.min.js%22%3E%3C/script%3E%0A%20%20%20%20%3Cscript%20src%3D%22https%3A//maxcdn.bootstrapcdn.com/bootstrap/3.2.0/js/bootstrap.min.js%22%3E%3C/script%3E%0A%20%20%20%20%3Cscript%20src%3D%22https%3A//cdnjs.cloudflare.com/ajax/libs/Leaflet.awesome-markers/2.0.2/leaflet.awesome-markers.js%22%3E%3C/script%3E%0A%20%20%20%20%3Clink%20rel%3D%22stylesheet%22%20href%3D%22https%3A//cdn.jsdelivr.net/npm/leaflet%401.6.0/dist/leaflet.css%22/%3E%0A%20%20%20%20%3Clink%20rel%3D%22stylesheet%22%20href%3D%22https%3A//maxcdn.bootstrapcdn.com/bootstrap/3.2.0/css/bootstrap.min.css%22/%3E%0A%20%20%20%20%3Clink%20rel%3D%22stylesheet%22%20href%3D%22https%3A//maxcdn.bootstrapcdn.com/bootstrap/3.2.0/css/bootstrap-theme.min.css%22/%3E%0A%20%20%20%20%3Clink%20rel%3D%22stylesheet%22%20href%3D%22https%3A//maxcdn.bootstrapcdn.com/font-awesome/4.6.3/css/font-awesome.min.css%22/%3E%0A%20%20%20%20%3Clink%20rel%3D%22stylesheet%22%20href%3D%22https%3A//cdnjs.cloudflare.com/ajax/libs/Leaflet.awesome-markers/2.0.2/leaflet.awesome-markers.css%22/%3E%0A%20%20%20%20%3Clink%20rel%3D%22stylesheet%22%20href%3D%22https%3A//cdn.jsdelivr.net/gh/python-visualization/folium/folium/templates/leaflet.awesome.rotate.min.css%22/%3E%0A%20%20%20%20%0A%20%20%20%20%20%20%20%20%20%20%20%20%3Cmeta%20name%3D%22viewport%22%20content%3D%22width%3Ddevice-width%2C%0A%20%20%20%20%20%20%20%20%20%20%20%20%20%20%20%20initial-scale%3D1.0%2C%20maximum-scale%3D1.0%2C%20user-scalable%3Dno%22%20/%3E%0A%20%20%20%20%20%20%20%20%20%20%20%20%3Cstyle%3E%0A%20%20%20%20%20%20%20%20%20%20%20%20%20%20%20%20%23map_93fe837ad57a4a9fb12bc12abcd497d6%20%7B%0A%20%20%20%20%20%20%20%20%20%20%20%20%20%20%20%20%20%20%20%20position%3A%20relative%3B%0A%20%20%20%20%20%20%20%20%20%20%20%20%20%20%20%20%20%20%20%20width%3A%20100.0%25%3B%0A%20%20%20%20%20%20%20%20%20%20%20%20%20%20%20%20%20%20%20%20height%3A%20100.0%25%3B%0A%20%20%20%20%20%20%20%20%20%20%20%20%20%20%20%20%20%20%20%20left%3A%200.0%25%3B%0A%20%20%20%20%20%20%20%20%20%20%20%20%20%20%20%20%20%20%20%20top%3A%200.0%25%3B%0A%20%20%20%20%20%20%20%20%20%20%20%20%20%20%20%20%7D%0A%20%20%20%20%20%20%20%20%20%20%20%20%3C/style%3E%0A%20%20%20%20%20%20%20%20%0A%3C/head%3E%0A%3Cbody%3E%20%20%20%20%0A%20%20%20%20%0A%20%20%20%20%20%20%20%20%20%20%20%20%3Cdiv%20class%3D%22folium-map%22%20id%3D%22map_93fe837ad57a4a9fb12bc12abcd497d6%22%20%3E%3C/div%3E%0A%20%20%20%20%20%20%20%20%0A%3C/body%3E%0A%3Cscript%3E%20%20%20%20%0A%20%20%20%20%0A%20%20%20%20%20%20%20%20%20%20%20%20var%20map_93fe837ad57a4a9fb12bc12abcd497d6%20%3D%20L.map%28%0A%20%20%20%20%20%20%20%20%20%20%20%20%20%20%20%20%22map_93fe837ad57a4a9fb12bc12abcd497d6%22%2C%0A%20%20%20%20%20%20%20%20%20%20%20%20%20%20%20%20%7B%0A%20%20%20%20%20%20%20%20%20%20%20%20%20%20%20%20%20%20%20%20center%3A%20%5B41.649693%2C%20-0.887712%5D%2C%0A%20%20%20%20%20%20%20%20%20%20%20%20%20%20%20%20%20%20%20%20crs%3A%20L.CRS.EPSG3857%2C%0A%20%20%20%20%20%20%20%20%20%20%20%20%20%20%20%20%20%20%20%20zoom%3A%2010%2C%0A%20%20%20%20%20%20%20%20%20%20%20%20%20%20%20%20%20%20%20%20zoomControl%3A%20true%2C%0A%20%20%20%20%20%20%20%20%20%20%20%20%20%20%20%20%20%20%20%20preferCanvas%3A%20false%2C%0A%20%20%20%20%20%20%20%20%20%20%20%20%20%20%20%20%7D%0A%20%20%20%20%20%20%20%20%20%20%20%20%29%3B%0A%0A%20%20%20%20%20%20%20%20%20%20%20%20%0A%0A%20%20%20%20%20%20%20%20%0A%20%20%20%20%0A%20%20%20%20%20%20%20%20%20%20%20%20var%20tile_layer_e549ef29dbb84725b2f244f9795c4e56%20%3D%20L.tileLayer%28%0A%20%20%20%20%20%20%20%20%20%20%20%20%20%20%20%20%22https%3A//%7Bs%7D.tile.openstreetmap.org/%7Bz%7D/%7Bx%7D/%7By%7D.png%22%2C%0A%20%20%20%20%20%20%20%20%20%20%20%20%20%20%20%20%7B%22attribution%22%3A%20%22Data%20by%20%5Cu0026copy%3B%20%5Cu003ca%20href%3D%5C%22http%3A//openstreetmap.org%5C%22%5Cu003eOpenStreetMap%5Cu003c/a%5Cu003e%2C%20under%20%5Cu003ca%20href%3D%5C%22http%3A//www.openstreetmap.org/copyright%5C%22%5Cu003eODbL%5Cu003c/a%5Cu003e.%22%2C%20%22detectRetina%22%3A%20false%2C%20%22maxNativeZoom%22%3A%2018%2C%20%22maxZoom%22%3A%2018%2C%20%22minZoom%22%3A%200%2C%20%22noWrap%22%3A%20false%2C%20%22opacity%22%3A%201%2C%20%22subdomains%22%3A%20%22abc%22%2C%20%22tms%22%3A%20false%7D%0A%20%20%20%20%20%20%20%20%20%20%20%20%29.addTo%28map_93fe837ad57a4a9fb12bc12abcd497d6%29%3B%0A%20%20%20%20%20%20%20%20%0A%3C/script%3E onload=\"this.contentDocument.open();this.contentDocument.write(    decodeURIComponent(this.getAttribute('data-html')));this.contentDocument.close();\" allowfullscreen webkitallowfullscreen mozallowfullscreen></iframe></div></div>"
      ],
      "text/plain": [
       "<folium.folium.Map at 0x7ff2f0a331f0>"
      ]
     },
     "execution_count": 14,
     "metadata": {},
     "output_type": "execute_result"
    }
   ],
   "source": [
    "mapa_zgz"
   ]
  },
  {
   "cell_type": "markdown",
   "metadata": {},
   "source": [
    "### Llamamos al URL que contiene el archivo CSV con la función de pandas read_csv y después analizamos con nano qué delimitadores tiene este archuivo en concreto y comprobamos que es ;, de manera que utilizamos este signo, especificando que ese es el delimitador"
   ]
  },
  {
   "cell_type": "code",
   "execution_count": 16,
   "metadata": {},
   "outputs": [],
   "source": [
    "df_zgz = pd.read_csv(url_zgz,delimiter= ';')"
   ]
  },
  {
   "cell_type": "markdown",
   "metadata": {},
   "source": [
    "### Del dataframe df_zgz averiguamos el nombre de sus columnas"
   ]
  },
  {
   "cell_type": "code",
   "execution_count": 18,
   "metadata": {},
   "outputs": [
    {
     "data": {
      "text/plain": [
       "Index(['id', 'year', 'type', 'accidentType', 'firstAddress', 'secondAddress',\n",
       "       'geometry', 'reason', 'area', 'creationDate', 'daniosMateriales',\n",
       "       'falloMecanico', 'estadoPavimento', 'tipoEstadoPavimento',\n",
       "       'estadoAtmosfera', 'tipoEstadoAtmosfera', 'afectado', 'vehiculo'],\n",
       "      dtype='object')"
      ]
     },
     "execution_count": 18,
     "metadata": {},
     "output_type": "execute_result"
    }
   ],
   "source": [
    " df_zgz.columns"
   ]
  },
  {
   "cell_type": "markdown",
   "metadata": {},
   "source": [
    "### Indicamos qué columna queremos que se visualice, en este caso, la columna 'reason'"
   ]
  },
  {
   "cell_type": "code",
   "execution_count": 19,
   "metadata": {},
   "outputs": [
    {
     "data": {
      "text/plain": [
       "0             PERDIDA del control por FALTA de ATENCIÓN\n",
       "1                   DISTANCIA DE SEGURIDAD, no mantener\n",
       "2             PERDIDA del control por FALTA de ATENCIÓN\n",
       "3           CEDA EL PASO, no respetar prioridad de paso\n",
       "4          PERDIDA del control por VELOCIDAD INADECUADA\n",
       "5               Caída de ocupante en Transporte Público\n",
       "6           PEATÓN cruza calz SIN PREFER. fuera de paso\n",
       "7     INVADIR otro carril en el mismo sentido de cir...\n",
       "8             PERDIDA del control por FALTA de ATENCIÓN\n",
       "9     INVADIR otro carril en el mismo sentido de cir...\n",
       "10              Caída de ocupante en Transporte Público\n",
       "11            PERDIDA del control por FALTA de ATENCIÓN\n",
       "12            PERDIDA del control por FALTA de ATENCIÓN\n",
       "13            PERDIDA del control por FALTA de ATENCIÓN\n",
       "14    PEATÓN cruza calz SIN PREFER. en PASO CON semá...\n",
       "15            PERDIDA del control por FALTA de ATENCIÓN\n",
       "16                  DISTANCIA DE SEGURIDAD, no mantener\n",
       "17            PERDIDA del control por FALTA de ATENCIÓN\n",
       "18            PERDIDA del control por FALTA de ATENCIÓN\n",
       "19            PERDIDA del control por FALTA de ATENCIÓN\n",
       "20                       PUERTA abierta incorrectamente\n",
       "21            PERDIDA del control por FALTA de ATENCIÓN\n",
       "22            PERDIDA del control por FALTA de ATENCIÓN\n",
       "23                                         MARCHA ATRÁS\n",
       "24         PERDIDA del control por VELOCIDAD INADECUADA\n",
       "25              SEMÁFORO, no respetar prioridad de paso\n",
       "26    INVADIR otro carril en el mismo sentido de cir...\n",
       "27                       PUERTA abierta incorrectamente\n",
       "28    INVADIR otro carril en el mismo sentido de cir...\n",
       "29    INVADIR otro carril en el mismo sentido de cir...\n",
       "30                  DISTANCIA DE SEGURIDAD, no mantener\n",
       "31    INVADIR otro carril en el mismo sentido de cir...\n",
       "32                                         OTRAS CAUSAS\n",
       "33    INVADIR otro carril en el mismo sentido de cir...\n",
       "34                                         MARCHA ATRÁS\n",
       "35            PERDIDA del control por FALTA de ATENCIÓN\n",
       "36    INVADIR otro carril en el mismo sentido de cir...\n",
       "37    PEATÓN cruza calz CON PREFER. en PASO  CON sem...\n",
       "38                                         MARCHA ATRÁS\n",
       "39                                         MARCHA ATRÁS\n",
       "40                                         OTRAS CAUSAS\n",
       "41    PEATÓN cruza calz CON PREFER. en PASO  SIN sem...\n",
       "42            PERDIDA del control por FALTA de ATENCIÓN\n",
       "43            PERDIDA del control por FALTA de ATENCIÓN\n",
       "44            PERDIDA del control por FALTA de ATENCIÓN\n",
       "45    INVADIR otro carril en el mismo sentido de cir...\n",
       "46                  DISTANCIA DE SEGURIDAD, no mantener\n",
       "47            PERDIDA del control por FALTA de ATENCIÓN\n",
       "48            PERDIDA del control por FALTA de ATENCIÓN\n",
       "49            PERDIDA del control por FALTA de ATENCIÓN\n",
       "Name: reason, dtype: object"
      ]
     },
     "execution_count": 19,
     "metadata": {},
     "output_type": "execute_result"
    }
   ],
   "source": [
    "df_zgz['reason']"
   ]
  },
  {
   "cell_type": "markdown",
   "metadata": {},
   "source": [
    "### Utilizamos la función unique para saber los valores distintos que existen en la columna reason"
   ]
  },
  {
   "cell_type": "code",
   "execution_count": 20,
   "metadata": {},
   "outputs": [
    {
     "data": {
      "text/plain": [
       "array(['PERDIDA del control por FALTA de ATENCIÓN',\n",
       "       'DISTANCIA DE SEGURIDAD, no mantener',\n",
       "       'CEDA EL PASO, no respetar prioridad de paso',\n",
       "       'PERDIDA del control por VELOCIDAD INADECUADA',\n",
       "       'Caída de ocupante en Transporte Público',\n",
       "       'PEATÓN cruza calz SIN PREFER. fuera de paso',\n",
       "       'INVADIR otro carril en el mismo sentido de circulación',\n",
       "       'PEATÓN cruza calz SIN PREFER. en PASO CON semáforo',\n",
       "       'PUERTA abierta incorrectamente', 'MARCHA ATRÁS',\n",
       "       'SEMÁFORO, no respetar prioridad de paso', 'OTRAS CAUSAS',\n",
       "       'PEATÓN cruza calz CON PREFER. en PASO  CON semáforo',\n",
       "       'PEATÓN cruza calz CON PREFER. en PASO  SIN semáforo'],\n",
       "      dtype=object)"
      ]
     },
     "execution_count": 20,
     "metadata": {},
     "output_type": "execute_result"
    }
   ],
   "source": [
    "df_zgz['reason'].unique()\n"
   ]
  },
  {
   "cell_type": "markdown",
   "metadata": {},
   "source": [
    "### Utilizamos la función unique para saber los valores distintos que existen en la columna type"
   ]
  },
  {
   "cell_type": "code",
   "execution_count": 21,
   "metadata": {},
   "outputs": [
    {
     "data": {
      "text/plain": [
       "array(['SALIDA CALZADA', 'COLISIÓN ALCANCE', 'COLIS FRONTOLATERAL',\n",
       "       'OTRAS', 'ATROPELLO', 'CAIDA SOBRE CALZADA', 'COLIS. MARCHA ATRÁS',\n",
       "       'COLISIÓN LATERAL'], dtype=object)"
      ]
     },
     "execution_count": 21,
     "metadata": {},
     "output_type": "execute_result"
    }
   ],
   "source": [
    "df_zgz['type'].unique()\n"
   ]
  }
 ],
 "metadata": {
  "kernelspec": {
   "display_name": "Python 3",
   "language": "python",
   "name": "python3"
  },
  "language_info": {
   "codemirror_mode": {
    "name": "ipython",
    "version": 3
   },
   "file_extension": ".py",
   "mimetype": "text/x-python",
   "name": "python",
   "nbconvert_exporter": "python",
   "pygments_lexer": "ipython3",
   "version": "3.8.10"
  }
 },
 "nbformat": 4,
 "nbformat_minor": 4
}
